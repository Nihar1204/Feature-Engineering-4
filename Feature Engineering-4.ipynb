{
 "cells": [
  {
   "cell_type": "markdown",
   "metadata": {},
   "source": [
    "## Feature Engineering-4"
   ]
  },
  {
   "cell_type": "code",
   "execution_count": 2,
   "metadata": {},
   "outputs": [],
   "source": [
    "# Q1. What is the difference between Ordinal Encoding and Label Encoding? Provide an example of when you might choose\n",
    "# one over the other.\n",
    "\n",
    "# Ans:\n",
    "\n",
    "# Label Encoding:\n",
    "# Assigns a unique integer to each category.   \n",
    "# Doesn't consider any order or ranking among the categories.\n",
    "# Can be useful for nominal categorical data where there's no inherent order.\n",
    "\n",
    "# Ordinal Encoding\n",
    "# Assigns integers to categories based on their order or rank.   \n",
    "# Preserves the order information.   \n",
    "# Suitable for ordinal categorical data where the order matters.\n",
    "\n",
    "# Example:\n",
    "\n",
    "# Consider an \"Education Level\" variable with categories: \"High School\", \"Bachelor's Degree\" and \"Master's Degree\". \n",
    "# Ordinal encoding might assign:\n",
    "# High School = 0   \n",
    "# Bachelor's Degree = 1\n",
    "# Master's Degree = 2\n",
    "\n",
    "\n",
    "# When to Choose One Over the Other:\n",
    "\n",
    "# Label Encoding: We can use when the categorical variable is nominal (no order). For example, \"City\" \n",
    "# (New York, London, Tokyo) or \"Product Category\" (Electronics, Clothing, Books).\n",
    "\n",
    "# Ordinal Encoding: Use when the categorical variable is ordinal (has a meaningful order). For example, \n",
    "# \"Customer Satisfaction\" (Very Dissatisfied, Dissatisfied, Neutral, Satisfied, Very Satisfied) or \"Size\" \n",
    "# (Small, Medium, Large).   \n",
    "\n"
   ]
  },
  {
   "cell_type": "code",
   "execution_count": 3,
   "metadata": {},
   "outputs": [],
   "source": [
    "# Q2. Explain how Target Guided Ordinal Encoding works and provide an example of when you might use it in\n",
    "# a machine learning project.\n",
    "\n",
    "# Ans:\n",
    "\n",
    "# Target Guided Ordinal Encoding is a kind of encoding technique, it assigns values to the cayegorical data with\n",
    "# respect to the dependent or target feature. We can use different techniques like mean or median.\n",
    "\n",
    "# Example:\n",
    "# Let say we have a dataset with feature city and rent with values, ['BBSR', 'CTC', 'BBSR', 'Delhi', 'CTC', 'Delhi'],\n",
    "# [10000, 8000, 12000, 16000, 6000, 18000] respectively.\n",
    "\n",
    "# Let say we are replacing values with mean so the values would be:\n",
    "# BBSR: (10000+12000)/2 = 11000\n",
    "# CTC: (8000+6000)/2 = 7000\n",
    "# Delhi: (16000+18000)/2 = 17000"
   ]
  },
  {
   "cell_type": "code",
   "execution_count": 4,
   "metadata": {},
   "outputs": [],
   "source": [
    "# Q3. Define covariance and explain why it is important in statistical analysis. How is covariance calculated?\n",
    "\n",
    "# Ans:\n",
    "\n",
    "# Covariance is a technique to determine the relationship between two variables, whether they are directly or \n",
    "# inversly proportional to each other.\n",
    "\n",
    "# Formula of covariance:\n",
    "# Let say we have two variables, x and y, we are calculating for sample data\n",
    "# cov(x,y) = Σ[(xi - μx)(yi - μy)] / N-1 , where i [1 to N]\n",
    "# μx: Mean of x\n",
    "# μy: Mean of y"
   ]
  },
  {
   "cell_type": "code",
   "execution_count": null,
   "metadata": {},
   "outputs": [
    {
     "name": "stdout",
     "output_type": "stream",
     "text": [
      "   Color  Size  Material\n",
      "0      2     2         2\n",
      "1      1     1         0\n",
      "2      0     0         1\n",
      "3      1     2         0\n",
      "4      2     0         2\n"
     ]
    }
   ],
   "source": [
    "# Q4. For a dataset with the following categorical variables: Color (red, green, blue), Size (small, medium,large), and \n",
    "# Material (wood, metal, plastic), perform label encoding using Python's scikit-learn library. Show your code and \n",
    "# explain the output.\n",
    "\n",
    "# Ans:\n",
    "\n",
    "\n",
    "import pandas as pd\n",
    "from sklearn.preprocessing import LabelEncoder\n",
    "\n",
    "# Step 1: Create a sample dataset\n",
    "data = pd.DataFrame({\n",
    "    'Color': ['red', 'green', 'blue', 'green', 'red'],\n",
    "    'Size': ['small', 'medium', 'large', 'small', 'large'],\n",
    "    'Material': ['wood', 'metal', 'plastic', 'metal', 'wood']\n",
    "})\n",
    "\n",
    "\n",
    "label_encoders = {}  \n",
    "\n",
    "\n",
    "for column in data.columns:\n",
    "    le = LabelEncoder()\n",
    "    data[column] = le.fit_transform(data[column])  \n",
    "    label_encoders[column] = le  \n",
    "\n",
    "\n",
    "print(data)\n"
   ]
  },
  {
   "cell_type": "code",
   "execution_count": 6,
   "metadata": {},
   "outputs": [],
   "source": [
    "# Explanation of the Output:\n",
    "# Label Encoding converts each category into a unique integer value.\n",
    "# The mapping is based on alphabetical order by default."
   ]
  },
  {
   "cell_type": "code",
   "execution_count": 7,
   "metadata": {},
   "outputs": [
    {
     "name": "stdout",
     "output_type": "stream",
     "text": [
      "Covariance Matrix:\n",
      "              Age  Income  Education\n",
      "Age        102.00  208.75      -19.0\n",
      "Income     208.75  430.00      -41.0\n",
      "Education  -19.00  -41.00        5.2\n"
     ]
    }
   ],
   "source": [
    "# Q5. Calculate the covariance matrix for the following variables in a dataset: Age, Income, and Education\n",
    "# level. Interpret the results.\n",
    "\n",
    "\n",
    "# Ans:\n",
    "\n",
    "import pandas as pd\n",
    "\n",
    "# Create a dataset\n",
    "data = pd.DataFrame({\n",
    "    'Age': [25, 32, 40, 50, 28],\n",
    "    'Income': [50, 60, 80, 100, 55],  # in thousands\n",
    "    'Education': [16, 18, 14, 12, 16]  # Years of schooling\n",
    "})\n",
    "\n",
    "# Step 2: Calculate the Covariance Matrix\n",
    "cov_matrix = data.cov()\n",
    "\n",
    "# Step 3: Display the results\n",
    "print(\"Covariance Matrix:\")\n",
    "print(cov_matrix)\n"
   ]
  },
  {
   "cell_type": "code",
   "execution_count": 8,
   "metadata": {},
   "outputs": [],
   "source": [
    "# Interpretation:\n",
    "# Age vs. Income (208.75) → High Positive Covariance\n",
    "# Older people tend to have higher incomes in this dataset.\n",
    "# As Age increases, Income also increases.\n",
    "\n",
    "# Age vs. Education (-19.0) → Negative Covariance\n",
    "# Indicates older individuals have slightly fewer years of education (possibly due to earlier generations having \n",
    "# different education systems).\n",
    "\n",
    "# Income vs. Education (-41.0) → Negative Covariance\n",
    "# Suggests that higher education levels do not always correspond to higher income in this dataset.\n",
    "# This could be due to job market differences (e.g. some highly educated people work in lower-paying fields)."
   ]
  },
  {
   "cell_type": "code",
   "execution_count": 9,
   "metadata": {},
   "outputs": [],
   "source": [
    "# Q6. You are working on a machine learning project with a dataset containing several categorical\n",
    "# variables, including \"Gender\" (Male/Female), \"Education Level\" (High School/Bachelor's/Master's/PhD),\n",
    "# and \"Employment Status\" (Unemployed/Part-Time/Full-Time). Which encoding method would you use for\n",
    "# each variable, and why?\n",
    "\n",
    "# Ans:\n",
    "\n",
    "# Gender → Label Encoding (0 = Female, 1 = Male) (since it's binary).\n",
    "# Education Level → Ordinal Encoding (High School < Bachelor's < Master's < PhD).\n",
    "# Employment Status → One-Hot Encoding (since categories are nominal and less cardinality)."
   ]
  },
  {
   "cell_type": "code",
   "execution_count": 10,
   "metadata": {},
   "outputs": [
    {
     "name": "stdout",
     "output_type": "stream",
     "text": [
      "Covariance Matrix:\n",
      "                   Temperature  Humidity  Weather Condition  Wind Direction\n",
      "Temperature              24.50     27.50              -0.25           -3.75\n",
      "Humidity                 27.50     62.50              -1.25           -8.75\n",
      "Weather Condition        -0.25     -1.25               0.70            0.15\n",
      "Wind Direction           -3.75     -8.75               0.15            1.30\n"
     ]
    }
   ],
   "source": [
    "# Q7. You are analyzing a dataset with two continuous variables, \"Temperature\" and \"Humidity\", and two\n",
    "# categorical variables, \"Weather Condition\" (Sunny/Cloudy/Rainy) and \"Wind Direction\" (North/South/\n",
    "# East/West). Calculate the covariance between each pair of variables and interpret the results.\n",
    "\n",
    "# Ans:\n",
    "\n",
    "# Import the packages\n",
    "import pandas as pd\n",
    "from sklearn.preprocessing import LabelEncoder\n",
    "\n",
    "# Create a sample dataset\n",
    "data = pd.DataFrame({\n",
    "    'Temperature': [30, 25, 28, 22, 35],\n",
    "    'Humidity': [70, 65, 80, 60, 75],\n",
    "    'Weather Condition': ['Sunny', 'Cloudy', 'Rainy', 'Sunny', 'Rainy'],\n",
    "    'Wind Direction': ['North', 'South', 'East', 'West', 'North']\n",
    "})\n",
    "\n",
    "# Label categorical variables\n",
    "label_encoders = {}\n",
    "\n",
    "for column in ['Weather Condition', 'Wind Direction']:\n",
    "    le = LabelEncoder()\n",
    "    data[column] = le.fit_transform(data[column])\n",
    "    label_encoders[column] = le\n",
    "\n",
    "cov_matrix = data.cov()\n",
    "\n",
    "# Step 4: Display Results\n",
    "print(\"Covariance Matrix:\")\n",
    "print(cov_matrix)"
   ]
  },
  {
   "cell_type": "code",
   "execution_count": 11,
   "metadata": {},
   "outputs": [],
   "source": [
    "# Interpretation\n",
    "# Temperature vs. Humidity (27.50, Positive)\n",
    "# Higher temperature tends to increase humidity in this dataset.\n",
    "\n",
    "# Temperature vs. Weather Condition (-0.25, Slightly negative)\n",
    "# This suggests that Sunny days might be warmer than Cloudy or Rainy days.\n",
    "\n",
    "# Humidity vs. Weather Condition (-1.25, Negative)\n",
    "# Rainy conditions tend to have lower humidity.\n",
    "\n",
    "# Temperature vs. Wind Direction (-3.75, Negative)\n",
    "# Indicates that in this dataset, certain wind directions may be linked to lower temperatures.\n"
   ]
  },
  {
   "cell_type": "code",
   "execution_count": null,
   "metadata": {},
   "outputs": [],
   "source": []
  }
 ],
 "metadata": {
  "kernelspec": {
   "display_name": "base",
   "language": "python",
   "name": "python3"
  },
  "language_info": {
   "codemirror_mode": {
    "name": "ipython",
    "version": 3
   },
   "file_extension": ".py",
   "mimetype": "text/x-python",
   "name": "python",
   "nbconvert_exporter": "python",
   "pygments_lexer": "ipython3",
   "version": "3.12.4"
  }
 },
 "nbformat": 4,
 "nbformat_minor": 2
}
